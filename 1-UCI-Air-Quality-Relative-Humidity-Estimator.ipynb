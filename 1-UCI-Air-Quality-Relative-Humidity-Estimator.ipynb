{
 "cells": [
  {
   "cell_type": "markdown",
   "id": "1e17e314",
   "metadata": {},
   "source": [
    "# UCI Air Quality - Relative Humidity Estimator\n",
    "\n",
    "In the previous notebook (`UCI Air Quality - Exploratory Data Analysis`)\n",
    "we delved into UCI repository's Air Quality dataset, gaining insights about the behavior of pollutant concentration levels and their correlation with Relative Humidity and Temperature.\n",
    "\n",
    "\n",
    "Now, our focus shifts to constructing a model to predict Relative Humidity. Our main goal in this notebook is to develop a method for estimating Relative Humidity patterns based on pollutant concentration levels, temperature and datatetime data.\n",
    "\n",
    "## Contents\n",
    "\n",
    "1. [**Structuring Data**](#1.-Structuring-Data)\n",
    "2. [**Performance Comparison**](#2.-Performance-Comparison)\n",
    "3. [**Feature Importance**](#3.-Feature-Importance)\n",
    "4. [**Feature Selection**](#3.-Feature-Selection)"
   ]
  },
  {
   "cell_type": "markdown",
   "id": "8efe8c1c",
   "metadata": {},
   "source": [
    "### Importing Libraries"
   ]
  },
  {
   "cell_type": "code",
   "execution_count": 1,
   "id": "595d27b0",
   "metadata": {},
   "outputs": [],
   "source": [
    "from ucimlrepo import fetch_ucirepo \n",
    "import matplotlib.pyplot as plt\n",
    "import seaborn as sns\n",
    "import pandas as pd\n",
    "import numpy as np\n",
    "import shap\n",
    "\n",
    "from sklearn.pipeline import Pipeline\n",
    "from sklearn.preprocessing import StandardScaler\n",
    "from sklearn.model_selection import GridSearchCV\n",
    "from sklearn.linear_model import LinearRegression\n",
    "from sklearn.svm import SVR\n",
    "from sklearn.ensemble import RandomForestRegressor, GradientBoostingRegressor\n",
    "from sklearn.metrics import mean_absolute_percentage_error\n",
    "\n",
    "\n",
    "import warnings\n",
    "from matplotlib.axes._axes import _log as matplotlib_axes_logger\n",
    "matplotlib_axes_logger.setLevel('ERROR')\n",
    "warnings.filterwarnings('ignore') \n",
    "\n",
    "sns.set(font_scale=1.2)\n",
    "sns.set_palette(\"pastel\")"
   ]
  },
  {
   "cell_type": "markdown",
   "id": "c9af9d9c",
   "metadata": {},
   "source": [
    "## 1. Structuring Data\n",
    "___\n",
    "\n",
    "In the previous notebook, we completed preprocessing tasks on the dataset, which involved filling missing values and adding additional columns. \n",
    "\n",
    "Now, let's proceed by loading the CSV file containing the preprocessed data."
   ]
  },
  {
   "cell_type": "code",
   "execution_count": 2,
   "id": "82143940",
   "metadata": {},
   "outputs": [],
   "source": [
    "df = pd.read_csv(\"./data/cleaned-air-quality-dataset.csv\")"
   ]
  },
  {
   "cell_type": "markdown",
   "id": "2826c393",
   "metadata": {},
   "source": [
    "We can see that our dataframe contains no missing values and we also introduces several additional columns, including Year, Month, DayOfWeek and Hour."
   ]
  },
  {
   "cell_type": "code",
   "execution_count": 3,
   "id": "876c2752",
   "metadata": {},
   "outputs": [
    {
     "name": "stdout",
     "output_type": "stream",
     "text": [
      "<class 'pandas.core.frame.DataFrame'>\n",
      "RangeIndex: 9357 entries, 0 to 9356\n",
      "Data columns (total 16 columns):\n",
      " #   Column         Non-Null Count  Dtype  \n",
      "---  ------         --------------  -----  \n",
      " 0   CO(GT)         9357 non-null   float64\n",
      " 1   PT08.S1(CO)    9357 non-null   float64\n",
      " 2   C6H6(GT)       9357 non-null   float64\n",
      " 3   PT08.S2(NMHC)  9357 non-null   float64\n",
      " 4   NOx(GT)        9357 non-null   float64\n",
      " 5   PT08.S3(NOx)   9357 non-null   float64\n",
      " 6   NO2(GT)        9357 non-null   float64\n",
      " 7   PT08.S4(NO2)   9357 non-null   float64\n",
      " 8   PT08.S5(O3)    9357 non-null   float64\n",
      " 9   T              9357 non-null   float64\n",
      " 10  RH             9357 non-null   float64\n",
      " 11  AH             9357 non-null   float64\n",
      " 12  Year           9357 non-null   int64  \n",
      " 13  Month          9357 non-null   int64  \n",
      " 14  DayOfWeek      9357 non-null   int64  \n",
      " 15  Hour           9357 non-null   int64  \n",
      "dtypes: float64(12), int64(4)\n",
      "memory usage: 1.1 MB\n"
     ]
    }
   ],
   "source": [
    "df.info()"
   ]
  },
  {
   "cell_type": "markdown",
   "id": "66150c91",
   "metadata": {},
   "source": [
    "To validate our predictor, we will begin by dividing our data into training and testing datasets. Given the temporal chronological nature of our data, we will alocate the first 80% of the data to the training set and the remaining 20% to the testing set."
   ]
  },
  {
   "cell_type": "code",
   "execution_count": 4,
   "id": "1c2248c9",
   "metadata": {},
   "outputs": [],
   "source": [
    "train_portion = 0.8\n",
    "split_index = int(train_portion * len(df))\n",
    "\n",
    "df_train = df.iloc[:split_index]\n",
    "df_test = df.iloc[split_index:]"
   ]
  },
  {
   "cell_type": "code",
   "execution_count": 5,
   "id": "34ddd51c",
   "metadata": {},
   "outputs": [],
   "source": [
    "X_train, y_train = df_train.drop([\"RH\",\"AH\"],axis=1), df_train[\"RH\"] \n",
    "X_test, y_test = df_test.drop([\"RH\",\"AH\"],axis=1), df_test[\"RH\"] "
   ]
  },
  {
   "cell_type": "markdown",
   "id": "d7d9737e",
   "metadata": {},
   "source": [
    "## 2. Performance Comparison\n",
    "___\n",
    "\n",
    "In this section, four Regression Algorithms have been selected for evaluation. \n",
    "\n",
    "A pipeline has been implemented, consisting of two steps:a Standard Scaler that is applied to normalize the data, followed by the selected regression algorithm.\n",
    "\n",
    "Additionally, a Grid Search is applied to select the best hyperparameters for the model. This approach allows for a systematic comparison of the performance of different algorithms while optimizing the model parameters to achieve the best possible results."
   ]
  },
  {
   "cell_type": "code",
   "execution_count": 6,
   "id": "5436ca74",
   "metadata": {},
   "outputs": [
    {
     "name": "stdout",
     "output_type": "stream",
     "text": [
      "Resultados para Linear Regression:\n",
      "Melhores parâmetros: {}\n",
      "Melhor score (MSE): 130.5186486279611\n",
      "\n",
      "Resultados para SVR:\n",
      "Melhores parâmetros: {'regressor__C': 10, 'regressor__epsilon': 0.01, 'regressor__kernel': 'rbf'}\n",
      "Melhor score (MSE): 77.43497457392549\n",
      "\n",
      "Resultados para Random Forest:\n",
      "Melhores parâmetros: {'regressor__max_depth': 10, 'regressor__n_estimators': 200}\n",
      "Melhor score (MSE): 149.39957807237406\n",
      "\n",
      "Resultados para Gradient Boosting:\n",
      "Melhores parâmetros: {'regressor__learning_rate': 0.1, 'regressor__max_depth': 3, 'regressor__n_estimators': 100}\n",
      "Melhor score (MSE): 136.0657733883385\n",
      "\n"
     ]
    }
   ],
   "source": [
    "pipelines = {\n",
    "    \"Linear Regression\": Pipeline([(\"scaler\", StandardScaler()), (\"regressor\", LinearRegression())]),\n",
    "    \"SVR\": Pipeline([(\"scaler\", StandardScaler()), (\"regressor\", SVR())]),\n",
    "    \"Random Forest\":Pipeline([(\"scaler\", StandardScaler()), (\"regressor\", RandomForestRegressor())]),\n",
    "    \"Gradient Boosting\": Pipeline([(\"scaler\", StandardScaler()), (\"regressor\", GradientBoostingRegressor())])\n",
    "}\n",
    "\n",
    "param_grid = {\n",
    "    \"Linear Regression\":{},\n",
    "    \"SVR\": {\n",
    "        \"regressor__kernel\": [\"linear\", \"rbf\"],\n",
    "        \"regressor__C\": [0.1, 1, 10],\n",
    "        \"regressor__epsilon\": [0.01, 0.1, 0.5]\n",
    "    },\n",
    "    \"Random Forest\":{\n",
    "        \"regressor__n_estimators\": [100, 200, 300],\n",
    "        \"regressor__max_depth\": [None, 5, 10]\n",
    "    },\n",
    "    \"Gradient Boosting\":{\n",
    "        \"regressor__n_estimators\": [100, 200, 300],\n",
    "        \"regressor__max_depth\": [3, 5, 7],\n",
    "        \"regressor__learning_rate\": [0.01, 0.1, 0.5]\n",
    "    }\n",
    "}\n",
    "\n",
    "\n",
    "results = {}\n",
    "for name, pipeline in pipelines.items():\n",
    "    grid_search = GridSearchCV(pipeline, param_grid[name], cv=3, scoring='neg_mean_squared_error')\n",
    "    grid_search.fit(X_train, y_train)\n",
    "    results[name] = {\n",
    "        \"Melhores parâmetros\": grid_search.best_params_,\n",
    "        \"Melhor score (MSE)\": -grid_search.best_score_\n",
    "    }\n",
    "\n",
    "for name, result in results.items():\n",
    "    print(f\"Resultados para {name}:\")\n",
    "    for metric, value in result.items():\n",
    "        print(f\"{metric}: {value}\")\n",
    "    print()"
   ]
  },
  {
   "cell_type": "markdown",
   "id": "cc6daf3d",
   "metadata": {},
   "source": [
    "The SVR algorithm demonstrated the best performance, with a MSE of 77.43.\n",
    "\n",
    "Next, we will use this model to make predictions on the test dataset and analyse the outcomes."
   ]
  },
  {
   "cell_type": "code",
   "execution_count": 7,
   "id": "0c335e70",
   "metadata": {
    "scrolled": true
   },
   "outputs": [
    {
     "name": "stdout",
     "output_type": "stream",
     "text": [
      "MAPE: 19.08%\n"
     ]
    }
   ],
   "source": [
    "best_model = grid_search.best_estimator_\n",
    "y_pred = best_model.predict(X_test)\n",
    "\n",
    "mape = mean_absolute_percentage_error(y_test, y_pred)\n",
    "print(f\"MAPE: {round(mape*100,2)}%\")"
   ]
  },
  {
   "cell_type": "code",
   "execution_count": 8,
   "id": "d247fe16",
   "metadata": {},
   "outputs": [
    {
     "data": {
      "text/html": [
       "<div>\n",
       "<style scoped>\n",
       "    .dataframe tbody tr th:only-of-type {\n",
       "        vertical-align: middle;\n",
       "    }\n",
       "\n",
       "    .dataframe tbody tr th {\n",
       "        vertical-align: top;\n",
       "    }\n",
       "\n",
       "    .dataframe thead th {\n",
       "        text-align: right;\n",
       "    }\n",
       "</style>\n",
       "<table border=\"1\" class=\"dataframe\">\n",
       "  <thead>\n",
       "    <tr style=\"text-align: right;\">\n",
       "      <th></th>\n",
       "      <th>y_test</th>\n",
       "      <th>y_pred</th>\n",
       "    </tr>\n",
       "  </thead>\n",
       "  <tbody>\n",
       "    <tr>\n",
       "      <th>0</th>\n",
       "      <td>32.5</td>\n",
       "      <td>34.597847</td>\n",
       "    </tr>\n",
       "    <tr>\n",
       "      <th>1</th>\n",
       "      <td>33.0</td>\n",
       "      <td>36.462766</td>\n",
       "    </tr>\n",
       "    <tr>\n",
       "      <th>2</th>\n",
       "      <td>35.0</td>\n",
       "      <td>40.004679</td>\n",
       "    </tr>\n",
       "    <tr>\n",
       "      <th>3</th>\n",
       "      <td>40.9</td>\n",
       "      <td>45.761770</td>\n",
       "    </tr>\n",
       "    <tr>\n",
       "      <th>4</th>\n",
       "      <td>38.5</td>\n",
       "      <td>44.943259</td>\n",
       "    </tr>\n",
       "    <tr>\n",
       "      <th>...</th>\n",
       "      <td>...</td>\n",
       "      <td>...</td>\n",
       "    </tr>\n",
       "    <tr>\n",
       "      <th>1867</th>\n",
       "      <td>29.3</td>\n",
       "      <td>33.504170</td>\n",
       "    </tr>\n",
       "    <tr>\n",
       "      <th>1868</th>\n",
       "      <td>23.7</td>\n",
       "      <td>18.400464</td>\n",
       "    </tr>\n",
       "    <tr>\n",
       "      <th>1869</th>\n",
       "      <td>18.3</td>\n",
       "      <td>12.103962</td>\n",
       "    </tr>\n",
       "    <tr>\n",
       "      <th>1870</th>\n",
       "      <td>13.5</td>\n",
       "      <td>5.623066</td>\n",
       "    </tr>\n",
       "    <tr>\n",
       "      <th>1871</th>\n",
       "      <td>13.1</td>\n",
       "      <td>3.900276</td>\n",
       "    </tr>\n",
       "  </tbody>\n",
       "</table>\n",
       "<p>1872 rows × 2 columns</p>\n",
       "</div>"
      ],
      "text/plain": [
       "      y_test     y_pred\n",
       "0       32.5  34.597847\n",
       "1       33.0  36.462766\n",
       "2       35.0  40.004679\n",
       "3       40.9  45.761770\n",
       "4       38.5  44.943259\n",
       "...      ...        ...\n",
       "1867    29.3  33.504170\n",
       "1868    23.7  18.400464\n",
       "1869    18.3  12.103962\n",
       "1870    13.5   5.623066\n",
       "1871    13.1   3.900276\n",
       "\n",
       "[1872 rows x 2 columns]"
      ]
     },
     "execution_count": 8,
     "metadata": {},
     "output_type": "execute_result"
    }
   ],
   "source": [
    "results_df = pd.DataFrame(y_pred, columns=[\"y_pred\"])\n",
    "results_df = pd.concat([y_test.reset_index(drop=True), results_df], axis=1)\n",
    "results_df.rename(columns={\"RH\":\"y_test\"}, inplace=True)\n",
    "results_df"
   ]
  },
  {
   "cell_type": "markdown",
   "id": "37455ddc",
   "metadata": {},
   "source": [
    "### Residual Plot\n",
    "\n",
    "Analyzing the residual plot, we observe in the histogram plot below that the residuals exhibit a normal distribution. This symmetric distribution around zero indicates that the model adequately captures the main patterns and sources of variation in data. Futhermore, it suggests that the errors are random and independent."
   ]
  },
  {
   "cell_type": "code",
   "execution_count": 9,
   "id": "a1cd62ca",
   "metadata": {},
   "outputs": [
    {
     "data": {
      "image/png": "[encoded data removed]",
      "text/plain": [
       "<Figure size 640x480 with 1 Axes>"
      ]
     },
     "metadata": {},
     "output_type": "display_data"
    }
   ],
   "source": [
    "residual = y_test - y_pred\n",
    "sns.distplot(residual)\n",
    "plt.show()"
   ]
  },
  {
   "cell_type": "markdown",
   "id": "a52b8fc4",
   "metadata": {},
   "source": [
    "## 3. Feature Importance\n",
    "___\n",
    "\n",
    "Upon evaluating the model's performance, we can now assess the importance of the features. To do so, we initially examine the feature_importances parameter provided by the algorithm."
   ]
  },
  {
   "cell_type": "code",
   "execution_count": 10,
   "id": "ac83e3ab",
   "metadata": {},
   "outputs": [],
   "source": [
    "feature_importances = best_model.named_steps[\"regressor\"].feature_importances_"
   ]
  },
  {
   "cell_type": "code",
   "execution_count": 11,
   "id": "af1b522f",
   "metadata": {},
   "outputs": [],
   "source": [
    "df_importance = pd.DataFrame(feature_importances, index=X_train.columns, columns=[\"importance\"])\n",
    "df_importance_sorted = df_importance.sort_values(by=\"importance\", ascending=False)"
   ]
  },
  {
   "cell_type": "code",
   "execution_count": 12,
   "id": "1e59feb8",
   "metadata": {},
   "outputs": [
    {
     "data": {
      "text/html": [
       "<div>\n",
       "<style scoped>\n",
       "    .dataframe tbody tr th:only-of-type {\n",
       "        vertical-align: middle;\n",
       "    }\n",
       "\n",
       "    .dataframe tbody tr th {\n",
       "        vertical-align: top;\n",
       "    }\n",
       "\n",
       "    .dataframe thead th {\n",
       "        text-align: right;\n",
       "    }\n",
       "</style>\n",
       "<table border=\"1\" class=\"dataframe\">\n",
       "  <thead>\n",
       "    <tr style=\"text-align: right;\">\n",
       "      <th></th>\n",
       "      <th>importance</th>\n",
       "    </tr>\n",
       "  </thead>\n",
       "  <tbody>\n",
       "    <tr>\n",
       "      <th>T</th>\n",
       "      <td>0.578996</td>\n",
       "    </tr>\n",
       "    <tr>\n",
       "      <th>PT08.S4(NO2)</th>\n",
       "      <td>0.138036</td>\n",
       "    </tr>\n",
       "    <tr>\n",
       "      <th>Month</th>\n",
       "      <td>0.125659</td>\n",
       "    </tr>\n",
       "    <tr>\n",
       "      <th>Hour</th>\n",
       "      <td>0.056895</td>\n",
       "    </tr>\n",
       "    <tr>\n",
       "      <th>PT08.S2(NMHC)</th>\n",
       "      <td>0.030336</td>\n",
       "    </tr>\n",
       "    <tr>\n",
       "      <th>NO2(GT)</th>\n",
       "      <td>0.021737</td>\n",
       "    </tr>\n",
       "    <tr>\n",
       "      <th>PT08.S3(NOx)</th>\n",
       "      <td>0.018423</td>\n",
       "    </tr>\n",
       "    <tr>\n",
       "      <th>PT08.S5(O3)</th>\n",
       "      <td>0.007534</td>\n",
       "    </tr>\n",
       "    <tr>\n",
       "      <th>PT08.S1(CO)</th>\n",
       "      <td>0.006838</td>\n",
       "    </tr>\n",
       "    <tr>\n",
       "      <th>C6H6(GT)</th>\n",
       "      <td>0.005630</td>\n",
       "    </tr>\n",
       "    <tr>\n",
       "      <th>NOx(GT)</th>\n",
       "      <td>0.004211</td>\n",
       "    </tr>\n",
       "    <tr>\n",
       "      <th>Year</th>\n",
       "      <td>0.002570</td>\n",
       "    </tr>\n",
       "    <tr>\n",
       "      <th>CO(GT)</th>\n",
       "      <td>0.002486</td>\n",
       "    </tr>\n",
       "    <tr>\n",
       "      <th>DayOfWeek</th>\n",
       "      <td>0.000649</td>\n",
       "    </tr>\n",
       "  </tbody>\n",
       "</table>\n",
       "</div>"
      ],
      "text/plain": [
       "               importance\n",
       "T                0.578996\n",
       "PT08.S4(NO2)     0.138036\n",
       "Month            0.125659\n",
       "Hour             0.056895\n",
       "PT08.S2(NMHC)    0.030336\n",
       "NO2(GT)          0.021737\n",
       "PT08.S3(NOx)     0.018423\n",
       "PT08.S5(O3)      0.007534\n",
       "PT08.S1(CO)      0.006838\n",
       "C6H6(GT)         0.005630\n",
       "NOx(GT)          0.004211\n",
       "Year             0.002570\n",
       "CO(GT)           0.002486\n",
       "DayOfWeek        0.000649"
      ]
     },
     "execution_count": 12,
     "metadata": {},
     "output_type": "execute_result"
    }
   ],
   "source": [
    "df_importance_sorted"
   ]
  },
  {
   "cell_type": "markdown",
   "id": "8e551896",
   "metadata": {},
   "source": [
    "As expected, the Temperature variable proves to be a highly influential factor for the estimation of Relative Humidity. \n",
    "\n",
    "Additionaly, the inclusion of the new variables Month and Hour also contributed significantly to the model's predictive ability.\n",
    "\n",
    "Meanwhile, the majority of pollutant concentration levels show minimal contribution."
   ]
  },
  {
   "cell_type": "markdown",
   "id": "0fbc21bc",
   "metadata": {},
   "source": [
    "### SHAP"
   ]
  },
  {
   "cell_type": "markdown",
   "id": "567c7411",
   "metadata": {},
   "source": [
    "We can also assess the performance of features using the SHAP library. In the graph below, features are arranged from highest to lowest effect on the prediction. The analysis considers the absolute SHAP value, ensuring that the impact of features on the prediction, whether positive or negative, is accounted for."
   ]
  },
  {
   "cell_type": "code",
   "execution_count": 13,
   "id": "ad028710",
   "metadata": {},
   "outputs": [
    {
     "name": "stderr",
     "output_type": "stream",
     "text": [
      "Permutation explainer: 1873it [00:57, 27.57it/s]                          \n"
     ]
    }
   ],
   "source": [
    "explainer = shap.Explainer(best_model.named_steps[\"regressor\"].predict, X_test)\n",
    "shap_values = explainer(X_test)"
   ]
  },
  {
   "cell_type": "code",
   "execution_count": 14,
   "id": "bded15b8",
   "metadata": {},
   "outputs": [
    {
     "data": {
      "image/png": "[encoded data removed]",
      "text/plain": [
       "<Figure size 800x650 with 1 Axes>"
      ]
     },
     "metadata": {},
     "output_type": "display_data"
    }
   ],
   "source": [
    "shap.plots.bar(shap_values)"
   ]
  },
  {
   "cell_type": "markdown",
   "id": "a423c7e3",
   "metadata": {},
   "source": [
    "### Feature Selection\n",
    "\n",
    "Having analyzed the feature importance plots generated by both the algorithm and the SHAP library, it's evident that not all features significantly influence the prediction. \n",
    "\n",
    "Features with lower importance values could be considered for removal to simplify the data complexity."
   ]
  },
  {
   "cell_type": "markdown",
   "id": "3720e6d5",
   "metadata": {},
   "source": [
    "To test this alternative, we selected only the primary features identified by the feature importance algorithms and trained the model again."
   ]
  },
  {
   "cell_type": "code",
   "execution_count": 15,
   "id": "739ca5ee",
   "metadata": {},
   "outputs": [],
   "source": [
    "best_features = [\"T\", \"PT08.S4(NO2)\", \"CO(GT)\", \"Month\", \"Hour\", \"PT08.S2(NMHC)\", \"C6H6(GT)\"]"
   ]
  },
  {
   "cell_type": "code",
   "execution_count": 16,
   "id": "53bfec5f",
   "metadata": {},
   "outputs": [],
   "source": [
    "X_train, y_train = df_train[best_features], df_train[\"RH\"] \n",
    "X_test, y_test = df_test[best_features], df_test[\"RH\"] "
   ]
  },
  {
   "cell_type": "code",
   "execution_count": 17,
   "id": "c1da7c04",
   "metadata": {},
   "outputs": [],
   "source": [
    "pipeline = Pipeline([\n",
    "    ('scaler', StandardScaler()),\n",
    "    ('svr', SVR(C=10, epsilon=0.01, kernel='rbf'))\n",
    "])"
   ]
  },
  {
   "cell_type": "code",
   "execution_count": 18,
   "id": "d27a76ce",
   "metadata": {},
   "outputs": [
    {
     "data": {
      "text/plain": [
       "Pipeline(steps=[('scaler', StandardScaler()), ('svr', SVR(C=10, epsilon=0.01))])"
      ]
     },
     "execution_count": 18,
     "metadata": {},
     "output_type": "execute_result"
    }
   ],
   "source": [
    "pipeline.fit(X_train, y_train)"
   ]
  },
  {
   "cell_type": "code",
   "execution_count": 19,
   "id": "3007237c",
   "metadata": {},
   "outputs": [
    {
     "name": "stdout",
     "output_type": "stream",
     "text": [
      "MAPE: 25.31%\n"
     ]
    }
   ],
   "source": [
    "y_pred = pipeline.predict(X_test)\n",
    "mape = mean_absolute_percentage_error(y_test, y_pred)\n",
    "print(f\"MAPE: {round(mape*100,2)}%\")"
   ]
  },
  {
   "cell_type": "code",
   "execution_count": 20,
   "id": "4ce836d7",
   "metadata": {},
   "outputs": [
    {
     "data": {
      "text/html": [
       "<div>\n",
       "<style scoped>\n",
       "    .dataframe tbody tr th:only-of-type {\n",
       "        vertical-align: middle;\n",
       "    }\n",
       "\n",
       "    .dataframe tbody tr th {\n",
       "        vertical-align: top;\n",
       "    }\n",
       "\n",
       "    .dataframe thead th {\n",
       "        text-align: right;\n",
       "    }\n",
       "</style>\n",
       "<table border=\"1\" class=\"dataframe\">\n",
       "  <thead>\n",
       "    <tr style=\"text-align: right;\">\n",
       "      <th></th>\n",
       "      <th>y_test</th>\n",
       "      <th>y_pred</th>\n",
       "    </tr>\n",
       "  </thead>\n",
       "  <tbody>\n",
       "    <tr>\n",
       "      <th>0</th>\n",
       "      <td>32.5</td>\n",
       "      <td>42.283631</td>\n",
       "    </tr>\n",
       "    <tr>\n",
       "      <th>1</th>\n",
       "      <td>33.0</td>\n",
       "      <td>42.504528</td>\n",
       "    </tr>\n",
       "    <tr>\n",
       "      <th>2</th>\n",
       "      <td>35.0</td>\n",
       "      <td>43.063600</td>\n",
       "    </tr>\n",
       "    <tr>\n",
       "      <th>3</th>\n",
       "      <td>40.9</td>\n",
       "      <td>46.513045</td>\n",
       "    </tr>\n",
       "    <tr>\n",
       "      <th>4</th>\n",
       "      <td>38.5</td>\n",
       "      <td>47.134199</td>\n",
       "    </tr>\n",
       "    <tr>\n",
       "      <th>...</th>\n",
       "      <td>...</td>\n",
       "      <td>...</td>\n",
       "    </tr>\n",
       "    <tr>\n",
       "      <th>1867</th>\n",
       "      <td>29.3</td>\n",
       "      <td>16.432320</td>\n",
       "    </tr>\n",
       "    <tr>\n",
       "      <th>1868</th>\n",
       "      <td>23.7</td>\n",
       "      <td>16.019192</td>\n",
       "    </tr>\n",
       "    <tr>\n",
       "      <th>1869</th>\n",
       "      <td>18.3</td>\n",
       "      <td>17.672822</td>\n",
       "    </tr>\n",
       "    <tr>\n",
       "      <th>1870</th>\n",
       "      <td>13.5</td>\n",
       "      <td>19.292706</td>\n",
       "    </tr>\n",
       "    <tr>\n",
       "      <th>1871</th>\n",
       "      <td>13.1</td>\n",
       "      <td>19.897347</td>\n",
       "    </tr>\n",
       "  </tbody>\n",
       "</table>\n",
       "<p>1872 rows × 2 columns</p>\n",
       "</div>"
      ],
      "text/plain": [
       "      y_test     y_pred\n",
       "0       32.5  42.283631\n",
       "1       33.0  42.504528\n",
       "2       35.0  43.063600\n",
       "3       40.9  46.513045\n",
       "4       38.5  47.134199\n",
       "...      ...        ...\n",
       "1867    29.3  16.432320\n",
       "1868    23.7  16.019192\n",
       "1869    18.3  17.672822\n",
       "1870    13.5  19.292706\n",
       "1871    13.1  19.897347\n",
       "\n",
       "[1872 rows x 2 columns]"
      ]
     },
     "execution_count": 20,
     "metadata": {},
     "output_type": "execute_result"
    }
   ],
   "source": [
    "results_df = pd.DataFrame(y_pred, columns=[\"y_pred\"])\n",
    "results_df = pd.concat([y_test.reset_index(drop=True), results_df], axis=1)\n",
    "results_df.rename(columns={\"RH\":\"y_test\"}, inplace=True)\n",
    "results_df"
   ]
  }
 ],
 "metadata": {
  "kernelspec": {
   "display_name": "Python 3 (ipykernel)",
   "language": "python",
   "name": "python3"
  },
  "language_info": {
   "codemirror_mode": {
    "name": "ipython",
    "version": 3
   },
   "file_extension": ".py",
   "mimetype": "text/x-python",
   "name": "python",
   "nbconvert_exporter": "python",
   "pygments_lexer": "ipython3",
   "version": "3.7.4"
  }
 },
 "nbformat": 4,
 "nbformat_minor": 5
}
